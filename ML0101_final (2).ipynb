!pip install openpyxl
import pandas as pd
import seaborn as sns

url = 'https://www.ecdc.europa.eu/sites/default/files/documents/COVID-19-geographic-disbtribution-worldwide-2020-03-26.xlsx'
df_raw = pd.read_excel(url)

df_raw['Countries and territories'].unique()


